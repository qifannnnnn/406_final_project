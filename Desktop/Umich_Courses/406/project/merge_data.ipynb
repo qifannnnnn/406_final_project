{
 "cells": [
  {
   "cell_type": "code",
   "execution_count": 700,
   "metadata": {},
   "outputs": [],
   "source": [
    "import pandas as pd\n",
    "import numpy as np\n",
    "\n",
    "pred = pd.read_csv('data/presidential_data.csv')\n",
    "covid = pd.read_csv('data/covid_data.csv')\n",
    "other = pd.read_csv('data/other_data.csv')"
   ]
  },
  {
   "cell_type": "code",
   "execution_count": 701,
   "metadata": {},
   "outputs": [],
   "source": [
    "# unify the column names\n",
    "pred = pred[['State', 'county', 'candidate', 'party', 'votes', 'won', 'total_votes', 'percent']]\n",
    "pred.county = [' '.join(x.split()[:-1])\n",
    "               if (x.split()[-1]=='county' or  x.split()[-1]=='County') else x for x in pred.county]\n",
    "pred.columns = ['State', 'County Name', 'candidate', 'party', 'votes', 'won', 'total_votes', 'percent']\n",
    "\n",
    "covid = covid[['State', 'County Name', 'population'] + list(covid.columns[3:-1])]\n",
    "covid.columns = ['State', 'County Name', 'population'] + ['case' + str(i+1) for i in range(10)] +['death' + str(i+1) for i in range(10)]\n",
    "covid['County Name'] = [' '.join(x.split()[:-1])\n",
    "               if (x.split()[-1]=='county' or  x.split()[-1]=='County') else x for x in covid['County Name']]  \n",
    "    \n",
    "other = other.drop('Unnamed: 0', axis = 1)\n",
    "other.Area_name = [' '.join(x.split()[:-1])\n",
    "               if (x.split()[-1]=='county' or  x.split()[-1]=='County') else x for x in other.Area_name]\n",
    "other.columns = ['State', 'County Name', 'labor_force_2019', 'employed', 'unemployed',\n",
    "                'rate', 'median_household_income_2018', 'less_than_high_school_2014_18',\n",
    "                'high_school', 'college', 'bachelor_or_higher', 'percent_less_than_high_school',\n",
    "                'percent_high_school', 'percent_college', 'percent_bachelor_or_higher','poverty']\n",
    "\n",
    "    "
   ]
  },
  {
   "cell_type": "code",
   "execution_count": 702,
   "metadata": {},
   "outputs": [],
   "source": [
    "# merge the data\n",
    "df = pred.merge(covid, on=['State','County Name'])\n",
    "df = df.merge(other,on=['State','County Name'] )"
   ]
  },
  {
   "cell_type": "code",
   "execution_count": 703,
   "metadata": {},
   "outputs": [],
   "source": [
    "# add total covid data\n",
    "df['total_cases'] =  df['case10']\n",
    "df['total_deaths'] = df['death10']\n",
    "df['death_rate'] = df.total_deaths/(df.total_cases + 0.0001)\n",
    "df['total_cases_per1000'] =1000*df.total_cases/df.population\n",
    "df['total_deaths_per1000'] =1000*df.total_deaths/df.population\n"
   ]
  },
  {
   "cell_type": "code",
   "execution_count": 704,
   "metadata": {},
   "outputs": [],
   "source": [
    "da = pd.read_csv('LND01.csv') # merging additional data\n",
    "da.columns = ['name', 'area']\n",
    "da['State'] = [x.split(',')[1] if len(x.split(','))>1 else '' for x in da.name]\n",
    "da['County Name'] = [x.split(',')[0] for x in da.name]\n",
    "da['State'] = [x.strip() for x in da.State]\n",
    "da['County Name'] = [x.strip() for x in da['County Name']]"
   ]
  },
  {
   "cell_type": "code",
   "execution_count": 705,
   "metadata": {},
   "outputs": [],
   "source": [
    "da = da[['State','County Name', 'area']] # compute population density\n",
    "df = df.merge(da, on=['State','County Name'])\n",
    "df['density'] = df.population/df.area\n",
    "df = df.drop(df.loc[(df.State == 'VA') & (df['County Name'] == 'Fairfax'),].index)"
   ]
  },
  {
   "cell_type": "code",
   "execution_count": 706,
   "metadata": {},
   "outputs": [],
   "source": [
    "db = pd.read_csv('data/race_clean.csv')\n",
    "df = df.merge(db, on = ['State','County Name'])\n",
    "df.percent = df.percent*100\n",
    "df.white_total = df.white_total*100\n",
    "df.black_total = df.black_total*100\n",
    "df.his_total = df.his_total*100\n",
    "df.asian_total = df.asian_total*100"
   ]
  },
  {
   "cell_type": "code",
   "execution_count": 707,
   "metadata": {},
   "outputs": [],
   "source": [
    "df.death_rate = df.death_rate*100"
   ]
  },
  {
   "cell_type": "code",
   "execution_count": 765,
   "metadata": {},
   "outputs": [],
   "source": [
    "df['edu'] = np.zeros(df.shape[0])\n",
    "df.edu.loc[df.low_edu < 17] = 1"
   ]
  },
  {
   "cell_type": "code",
   "execution_count": 771,
   "metadata": {},
   "outputs": [
    {
     "data": {
      "text/plain": [
       "24.0"
      ]
     },
     "execution_count": 771,
     "metadata": {},
     "output_type": "execute_result"
    }
   ],
   "source": [
    "df.low_edu.median()"
   ]
  },
  {
   "cell_type": "code",
   "execution_count": 708,
   "metadata": {},
   "outputs": [
    {
     "data": {
      "text/plain": [
       "0.07082748948106592"
      ]
     },
     "execution_count": 708,
     "metadata": {},
     "output_type": "execute_result"
    }
   ],
   "source": [
    "df['urban'] = np.zeros(df.shape[0])\n",
    "df.urban.loc[df.density>=500] = 1\n",
    "df.urban.mean()"
   ]
  },
  {
   "cell_type": "code",
   "execution_count": 709,
   "metadata": {},
   "outputs": [
    {
     "data": {
      "text/plain": [
       "0.5"
      ]
     },
     "execution_count": 709,
     "metadata": {},
     "output_type": "execute_result"
    }
   ],
   "source": [
    "df['income'] = np.zeros(df.shape[0])\n",
    "df.income.loc[df.median_household_income_2018>=df.median_household_income_2018.median()] = 1\n",
    "df.income.mean()"
   ]
  },
  {
   "cell_type": "code",
   "execution_count": 710,
   "metadata": {},
   "outputs": [],
   "source": [
    "df.population = df.population/1000000"
   ]
  },
  {
   "cell_type": "code",
   "execution_count": 766,
   "metadata": {},
   "outputs": [
    {
     "name": "stdout",
     "output_type": "stream",
     "text": [
      "                            OLS Regression Results                            \n",
      "==============================================================================\n",
      "Dep. Variable:                percent   R-squared:                       0.758\n",
      "Model:                            OLS   Adj. R-squared:                  0.753\n",
      "Method:                 Least Squares   F-statistic:                     153.6\n",
      "Date:                Sun, 22 Nov 2020   Prob (F-statistic):               0.00\n",
      "Time:                        17:12:42   Log-Likelihood:                -9817.3\n",
      "No. Observations:                2852   AIC:                         1.975e+04\n",
      "Df Residuals:                    2794   BIC:                         2.010e+04\n",
      "Df Model:                          57                                         \n",
      "Covariance Type:            nonrobust                                         \n",
      "================================================================================================\n",
      "                                   coef    std err          t      P>|t|      [0.025      0.975]\n",
      "------------------------------------------------------------------------------------------------\n",
      "Intercept                       24.0528      3.061      7.857      0.000      18.050      30.055\n",
      "State[T.AR]                     -3.3772      1.329     -2.541      0.011      -5.983      -0.772\n",
      "State[T.AZ]                      2.5100      2.507      1.001      0.317      -2.405       7.425\n",
      "State[T.CA]                     -8.3987      1.721     -4.879      0.000     -11.774      -5.024\n",
      "State[T.CO]                     -7.8268      1.566     -4.999      0.000     -10.897      -4.757\n",
      "State[T.CT]                    -17.8507      3.332     -5.358      0.000     -24.384     -11.318\n",
      "State[T.DE]                     -9.4936      5.497     -1.727      0.084     -20.272       1.285\n",
      "State[T.FL]                     -1.0798      1.395     -0.774      0.439      -3.814       1.655\n",
      "State[T.GA]                      1.7704      1.131      1.565      0.118      -0.448       3.989\n",
      "State[T.HI]                      1.1622      4.284      0.271      0.786      -7.238       9.562\n",
      "State[T.IA]                    -12.7656      1.339     -9.534      0.000     -15.391     -10.140\n",
      "State[T.ID]                     -1.0793      1.601     -0.674      0.500      -4.218       2.059\n",
      "State[T.IL]                     -7.2849      1.333     -5.465      0.000      -9.899      -4.671\n",
      "State[T.IN]                     -9.1478      1.326     -6.898      0.000     -11.748      -6.548\n",
      "State[T.KS]                      0.4407      1.301      0.339      0.735      -2.110       2.991\n",
      "State[T.KY]                     -9.4126      1.291     -7.292      0.000     -11.944      -6.881\n",
      "State[T.MA]                    -31.1180      2.403    -12.948      0.000     -35.831     -26.405\n",
      "State[T.MD]                     -6.0396      2.028     -2.978      0.003     -10.016      -2.063\n",
      "State[T.ME]                    -28.9253      2.211    -13.082      0.000     -33.261     -24.590\n",
      "State[T.MI]                    -12.9650      1.421     -9.122      0.000     -15.752     -10.178\n",
      "State[T.MN]                    -12.6157      1.410     -8.945      0.000     -15.381      -9.850\n",
      "State[T.MO]                     -5.1046      1.276     -4.001      0.000      -7.606      -2.603\n",
      "State[T.MS]                      0.3621      1.348      0.269      0.788      -2.281       3.005\n",
      "State[T.MT]                     -3.7573      1.570     -2.393      0.017      -6.836      -0.679\n",
      "State[T.NC]                     -4.8698      1.249     -3.898      0.000      -7.320      -2.420\n",
      "State[T.ND]                     -3.5298      1.538     -2.295      0.022      -6.546      -0.514\n",
      "State[T.NE]                      2.5658      1.353      1.896      0.058      -0.088       5.219\n",
      "State[T.NH]                    -28.7923      2.924     -9.848      0.000     -34.525     -23.059\n",
      "State[T.NJ]                     -7.8355      2.084     -3.759      0.000     -11.923      -3.748\n",
      "State[T.NM]                      3.9987      2.089      1.914      0.056      -0.098       8.095\n",
      "State[T.NV]                      6.2586      2.281      2.743      0.006       1.785      10.732\n",
      "State[T.NY]                    -12.9530      1.501     -8.627      0.000     -15.897     -10.009\n",
      "State[T.OH]                     -8.0068      1.364     -5.872      0.000     -10.681      -5.333\n",
      "State[T.OK]                      8.4677      1.398      6.056      0.000       5.726      11.209\n",
      "State[T.OR]                    -12.6964      1.725     -7.361      0.000     -16.079      -9.314\n",
      "State[T.PA]                     -9.0543      1.467     -6.174      0.000     -11.930      -6.179\n",
      "State[T.RI]                    -30.0147      3.598     -8.342      0.000     -37.070     -22.960\n",
      "State[T.SC]                     -2.2361      1.478     -1.513      0.130      -5.134       0.662\n",
      "State[T.SD]                     -4.4020      1.497     -2.941      0.003      -7.337      -1.467\n",
      "State[T.TN]                     -5.6202      1.286     -4.369      0.000      -8.142      -3.098\n",
      "State[T.TX]                     11.1295      1.244      8.950      0.000       8.691      13.568\n",
      "State[T.UT]                      3.9395      1.845      2.135      0.033       0.321       7.558\n",
      "State[T.VA]                     -4.5169      1.272     -3.551      0.000      -7.011      -2.023\n",
      "State[T.VT]                    -42.0783      2.390    -17.609      0.000     -46.764     -37.393\n",
      "State[T.WA]                    -12.0296      1.779     -6.763      0.000     -15.517      -8.542\n",
      "State[T.WI]                    -17.4810      1.439    -12.148      0.000     -20.303     -14.659\n",
      "State[T.WV]                     -7.9251      1.540     -5.145      0.000     -10.946      -4.905\n",
      "State[T.WY]                      4.0540      2.013      2.014      0.044       0.106       8.002\n",
      "rate                            -0.8455      0.159     -5.325      0.000      -1.157      -0.534\n",
      "median_household_income_2018    -0.0001   1.71e-05     -8.764      0.000      -0.000      -0.000\n",
      "low_edu                          0.3616      0.022     16.354      0.000       0.318       0.405\n",
      "total_cases_per1000              0.0662      0.012      5.352      0.000       0.042       0.090\n",
      "total_cases_per1000:edu         -0.0687      0.015     -4.617      0.000      -0.098      -0.040\n",
      "population                      -5.9034      0.656     -8.996      0.000      -7.190      -4.617\n",
      "density                          0.0003      0.000      2.456      0.014    6.83e-05       0.001\n",
      "white_total                      0.6124      0.024     25.195      0.000       0.565       0.660\n",
      "his_total                       -0.5882      0.021    -27.791      0.000      -0.630      -0.547\n",
      "black_total                     -0.1856      0.028     -6.591      0.000      -0.241      -0.130\n",
      "==============================================================================\n",
      "Omnibus:                      304.778   Durbin-Watson:                   1.959\n",
      "Prob(Omnibus):                  0.000   Jarque-Bera (JB):              925.735\n",
      "Skew:                          -0.554   Prob(JB):                    9.53e-202\n",
      "Kurtosis:                       5.562   Cond. No.                     2.89e+06\n",
      "==============================================================================\n",
      "\n",
      "Notes:\n",
      "[1] Standard Errors assume that the covariance matrix of the errors is correctly specified.\n",
      "[2] The condition number is large, 2.89e+06. This might indicate that there are\n",
      "strong multicollinearity or other numerical problems.\n"
     ]
    }
   ],
   "source": [
    "# fit a base model \n",
    "df['logpop'] = np.log(df.population)\n",
    "df['Y'] = [1 if i else 0 for i in df.won]\n",
    "df['log_deaths_per1000'] = np.log(df['total_deaths_per1000'] + 0.0001)\n",
    "df['log_cases_per1000'] = np.log(df['total_cases_per1000'] + 0.0001)\n",
    "df['low_edu'] = df['percent_less_than_high_school'] + df['percent_high_school']\n",
    "df.to_csv('data/merged.csv')\n",
    "import statsmodels.api as sm\n",
    "import statsmodels.formula.api as smf\n",
    "\n",
    "m = smf.ols(formula = \n",
    "           'percent ~ State + rate + median_household_income_2018 + low_edu +   total_cases_per1000 + total_cases_per1000:edu + + population + density + white_total + his_total + black_total',\n",
    "          data = df).fit()\n",
    "print(m.summary()) "
   ]
  },
  {
   "cell_type": "code",
   "execution_count": 638,
   "metadata": {},
   "outputs": [
    {
     "data": {
      "text/plain": [
       "<seaborn.axisgrid.FacetGrid at 0x1370f6400>"
      ]
     },
     "execution_count": 638,
     "metadata": {},
     "output_type": "execute_result"
    },
    {
     "data": {
      "image/png": "[encoded data removed]",
      "text/plain": [
       "<Figure size 360x360 with 1 Axes>"
      ]
     },
     "metadata": {
      "needs_background": "light"
     },
     "output_type": "display_data"
    }
   ],
   "source": [
    "# residual plot\n",
    "import seaborn as sns\n",
    "resids = df.percent - m.predict()\n",
    "resids.name = 'residuals'\n",
    "sns.displot(resids, kde=True)"
   ]
  },
  {
   "cell_type": "code",
   "execution_count": 767,
   "metadata": {},
   "outputs": [
    {
     "name": "stdout",
     "output_type": "stream",
     "text": [
      "                            OLS Regression Results                            \n",
      "==============================================================================\n",
      "Dep. Variable:                percent   R-squared:                       0.756\n",
      "Model:                            OLS   Adj. R-squared:                  0.751\n",
      "Method:                 Least Squares   F-statistic:                     154.8\n",
      "Date:                Mon, 23 Nov 2020   Prob (F-statistic):               0.00\n",
      "Time:                        22:07:55   Log-Likelihood:                -9828.1\n",
      "No. Observations:                2852   AIC:                         1.977e+04\n",
      "Df Residuals:                    2795   BIC:                         2.011e+04\n",
      "Df Model:                          56                                         \n",
      "Covariance Type:            nonrobust                                         \n",
      "================================================================================================\n",
      "                                   coef    std err          t      P>|t|      [0.025      0.975]\n",
      "------------------------------------------------------------------------------------------------\n",
      "Intercept                       25.3406      3.060      8.282      0.000      19.341      31.340\n",
      "State[T.AR]                     -3.2841      1.334     -2.463      0.014      -5.899      -0.669\n",
      "State[T.AZ]                      2.5812      2.516      1.026      0.305      -2.351       7.514\n",
      "State[T.CA]                     -8.5065      1.727     -4.924      0.000     -11.894      -5.119\n",
      "State[T.CO]                     -7.8853      1.571     -5.019      0.000     -10.966      -4.804\n",
      "State[T.CT]                    -17.7339      3.344     -5.303      0.000     -24.291     -11.177\n",
      "State[T.DE]                     -9.2485      5.517     -1.676      0.094     -20.066       1.569\n",
      "State[T.FL]                     -1.0312      1.400     -0.737      0.461      -3.776       1.713\n",
      "State[T.GA]                      1.5893      1.135      1.401      0.161      -0.636       3.814\n",
      "State[T.HI]                      0.3942      4.296      0.092      0.927      -8.030       8.818\n",
      "State[T.IA]                    -13.4937      1.334    -10.112      0.000     -16.110     -10.877\n",
      "State[T.ID]                     -1.4281      1.605     -0.890      0.374      -4.574       1.718\n",
      "State[T.IL]                     -7.3575      1.338     -5.500      0.000      -9.981      -4.735\n",
      "State[T.IN]                     -9.0772      1.331     -6.821      0.000     -11.687      -6.468\n",
      "State[T.KS]                      0.1252      1.304      0.096      0.923      -2.431       2.681\n",
      "State[T.KY]                     -9.6527      1.295     -7.457      0.000     -12.191      -7.114\n",
      "State[T.MA]                    -31.1742      2.412    -12.924      0.000     -35.904     -26.445\n",
      "State[T.MD]                     -5.9776      2.035     -2.937      0.003      -9.969      -1.987\n",
      "State[T.ME]                    -28.9453      2.219    -13.044      0.000     -33.297     -24.594\n",
      "State[T.MI]                    -13.1580      1.426     -9.228      0.000     -15.954     -10.362\n",
      "State[T.MN]                    -13.0423      1.413     -9.233      0.000     -15.812     -10.273\n",
      "State[T.MO]                     -5.1764      1.280     -4.043      0.000      -7.687      -2.666\n",
      "State[T.MS]                      0.3456      1.353      0.256      0.798      -2.307       2.998\n",
      "State[T.MT]                     -4.4967      1.567     -2.869      0.004      -7.570      -1.423\n",
      "State[T.NC]                     -4.9065      1.254     -3.913      0.000      -7.365      -2.448\n",
      "State[T.ND]                     -4.2954      1.535     -2.799      0.005      -7.305      -1.286\n",
      "State[T.NE]                      2.0600      1.354      1.522      0.128      -0.594       4.714\n",
      "State[T.NH]                    -28.7203      2.934     -9.788      0.000     -34.474     -22.967\n",
      "State[T.NJ]                     -7.9349      2.092     -3.793      0.000     -12.037      -3.833\n",
      "State[T.NM]                      3.8115      2.096      1.818      0.069      -0.299       7.922\n",
      "State[T.NV]                      6.2346      2.290      2.723      0.007       1.745      10.724\n",
      "State[T.NY]                    -12.8353      1.507     -8.519      0.000     -15.789      -9.881\n",
      "State[T.OH]                     -8.0652      1.369     -5.893      0.000     -10.749      -5.382\n",
      "State[T.OK]                      8.3081      1.403      5.922      0.000       5.557      11.059\n",
      "State[T.OR]                    -12.7002      1.731     -7.336      0.000     -16.095      -9.306\n",
      "State[T.PA]                     -9.0479      1.472     -6.147      0.000     -11.934      -6.162\n",
      "State[T.RI]                    -30.0318      3.611     -8.316      0.000     -37.113     -22.951\n",
      "State[T.SC]                     -2.2426      1.483     -1.512      0.131      -5.151       0.666\n",
      "State[T.SD]                     -5.0998      1.495     -3.412      0.001      -8.031      -2.169\n",
      "State[T.TN]                     -5.4798      1.291     -4.246      0.000      -8.010      -2.949\n",
      "State[T.TX]                     10.9833      1.248      8.803      0.000       8.537      13.430\n",
      "State[T.UT]                      3.5171      1.850      1.901      0.057      -0.110       7.144\n",
      "State[T.VA]                     -4.6409      1.276     -3.636      0.000      -7.143      -2.139\n",
      "State[T.VT]                    -42.0658      2.398    -17.540      0.000     -46.768     -37.363\n",
      "State[T.WA]                    -12.1216      1.785     -6.790      0.000     -15.622      -8.621\n",
      "State[T.WI]                    -18.0498      1.439    -12.544      0.000     -20.871     -15.228\n",
      "State[T.WV]                     -8.1516      1.545     -5.275      0.000     -11.182      -5.122\n",
      "State[T.WY]                      3.6012      2.018      1.784      0.074      -0.356       7.558\n",
      "rate                            -0.8704      0.159     -5.465      0.000      -1.183      -0.558\n",
      "median_household_income_2018    -0.0002    1.7e-05     -9.318      0.000      -0.000      -0.000\n",
      "low_edu                          0.3915      0.021     18.451      0.000       0.350       0.433\n",
      "density                          0.0003      0.000      2.419      0.016    6.35e-05       0.001\n",
      "total_cases_per1000              0.0511      0.012      4.269      0.000       0.028       0.075\n",
      "population                      -5.8252      0.658     -8.848      0.000      -7.116      -4.534\n",
      "white_total                      0.5987      0.024     24.728      0.000       0.551       0.646\n",
      "his_total                       -0.5909      0.021    -27.825      0.000      -0.633      -0.549\n",
      "black_total                     -0.1974      0.028     -7.016      0.000      -0.253      -0.142\n",
      "==============================================================================\n",
      "Omnibus:                      321.743   Durbin-Watson:                   1.960\n",
      "Prob(Omnibus):                  0.000   Jarque-Bera (JB):              987.627\n",
      "Skew:                          -0.582   Prob(JB):                    3.46e-215\n",
      "Kurtosis:                       5.637   Cond. No.                     2.88e+06\n",
      "==============================================================================\n",
      "\n",
      "Notes:\n",
      "[1] Standard Errors assume that the covariance matrix of the errors is correctly specified.\n",
      "[2] The condition number is large, 2.88e+06. This might indicate that there are\n",
      "strong multicollinearity or other numerical problems.\n"
     ]
    }
   ],
   "source": [
    "m2 = smf.ols(formula = \n",
    "           'percent ~ State + rate + median_household_income_2018 + low_edu +  density + total_cases_per1000  + population  + white_total + his_total + black_total',\n",
    "          data = df).fit()\n",
    "print(m2.summary())"
   ]
  },
  {
   "cell_type": "code",
   "execution_count": 714,
   "metadata": {},
   "outputs": [
    {
     "name": "stdout",
     "output_type": "stream",
     "text": [
      "                            OLS Regression Results                            \n",
      "==============================================================================\n",
      "Dep. Variable:                percent   R-squared:                       0.756\n",
      "Model:                            OLS   Adj. R-squared:                  0.751\n",
      "Method:                 Least Squares   F-statistic:                     152.2\n",
      "Date:                Sun, 22 Nov 2020   Prob (F-statistic):               0.00\n",
      "Time:                        03:46:05   Log-Likelihood:                -9827.2\n",
      "No. Observations:                2852   AIC:                         1.977e+04\n",
      "Df Residuals:                    2794   BIC:                         2.012e+04\n",
      "Df Model:                          57                                         \n",
      "Covariance Type:            nonrobust                                         \n",
      "================================================================================================\n",
      "                                   coef    std err          t      P>|t|      [0.025      0.975]\n",
      "------------------------------------------------------------------------------------------------\n",
      "Intercept                       25.4343      3.060      8.312      0.000      19.434      31.434\n",
      "State[T.AR]                     -3.2574      1.333     -2.443      0.015      -5.872      -0.643\n",
      "State[T.AZ]                      2.7901      2.520      1.107      0.268      -2.151       7.731\n",
      "State[T.CA]                     -8.4845      1.727     -4.912      0.000     -11.871      -5.098\n",
      "State[T.CO]                     -7.8394      1.571     -4.989      0.000     -10.920      -4.758\n",
      "State[T.CT]                    -17.1432      3.371     -5.086      0.000     -23.752     -10.534\n",
      "State[T.DE]                     -9.0515      5.518     -1.640      0.101     -19.871       1.768\n",
      "State[T.FL]                     -0.9698      1.400     -0.693      0.489      -3.715       1.776\n",
      "State[T.GA]                      1.7381      1.140      1.525      0.127      -0.497       3.973\n",
      "State[T.HI]                      0.5337      4.297      0.124      0.901      -7.892       8.959\n",
      "State[T.IA]                    -13.4614      1.334    -10.088      0.000     -16.078     -10.845\n",
      "State[T.ID]                     -1.4584      1.605     -0.909      0.363      -4.605       1.688\n",
      "State[T.IL]                     -7.2958      1.338     -5.452      0.000      -9.920      -4.672\n",
      "State[T.IN]                     -8.9462      1.334     -6.706      0.000     -11.562      -6.330\n",
      "State[T.KS]                      0.1223      1.303      0.094      0.925      -2.433       2.678\n",
      "State[T.KY]                     -9.6891      1.295     -7.484      0.000     -12.228      -7.151\n",
      "State[T.MA]                    -30.4806      2.464    -12.372      0.000     -35.311     -25.650\n",
      "State[T.MD]                     -5.8308      2.038     -2.861      0.004      -9.827      -1.835\n",
      "State[T.ME]                    -28.8564      2.220    -13.000      0.000     -33.209     -24.504\n",
      "State[T.MI]                    -13.0471      1.428     -9.138      0.000     -15.847     -10.247\n",
      "State[T.MN]                    -13.0651      1.412     -9.250      0.000     -15.834     -10.296\n",
      "State[T.MO]                     -5.1978      1.280     -4.060      0.000      -7.708      -2.688\n",
      "State[T.MS]                      0.4508      1.355      0.333      0.739      -2.205       3.107\n",
      "State[T.MT]                     -4.5061      1.567     -2.875      0.004      -7.579      -1.433\n",
      "State[T.NC]                     -4.8976      1.254     -3.907      0.000      -7.356      -2.439\n",
      "State[T.ND]                     -4.2403      1.535     -2.763      0.006      -7.250      -1.231\n",
      "State[T.NE]                      2.0400      1.354      1.507      0.132      -0.614       4.694\n",
      "State[T.NH]                    -28.6205      2.935     -9.752      0.000     -34.375     -22.866\n",
      "State[T.NJ]                     -7.2181      2.155     -3.349      0.001     -11.444      -2.992\n",
      "State[T.NM]                      3.9422      2.098      1.879      0.060      -0.172       8.056\n",
      "State[T.NV]                      6.2143      2.289      2.715      0.007       1.726      10.703\n",
      "State[T.NY]                    -12.5835      1.517     -8.293      0.000     -15.559      -9.608\n",
      "State[T.OH]                     -7.9319      1.372     -5.782      0.000     -10.622      -5.242\n",
      "State[T.OK]                      8.2775      1.403      5.901      0.000       5.527      11.028\n",
      "State[T.OR]                    -12.7096      1.731     -7.343      0.000     -16.104      -9.316\n",
      "State[T.PA]                     -8.8367      1.480     -5.972      0.000     -11.738      -5.935\n",
      "State[T.RI]                    -29.7344      3.617     -8.221      0.000     -36.827     -22.642\n",
      "State[T.SC]                     -2.1400      1.485     -1.441      0.150      -5.052       0.772\n",
      "State[T.SD]                     -5.1276      1.495     -3.431      0.001      -8.058      -2.197\n",
      "State[T.TN]                     -5.4957      1.290     -4.259      0.000      -8.026      -2.965\n",
      "State[T.TX]                     11.1652      1.254      8.901      0.000       8.706      13.625\n",
      "State[T.UT]                      3.4527      1.850      1.866      0.062      -0.175       7.080\n",
      "State[T.VA]                     -4.5798      1.277     -3.587      0.000      -7.083      -2.076\n",
      "State[T.VT]                    -42.0410      2.398    -17.532      0.000     -46.743     -37.339\n",
      "State[T.WA]                    -12.0722      1.785     -6.762      0.000     -15.573      -8.572\n",
      "State[T.WI]                    -18.1090      1.439    -12.581      0.000     -20.931     -15.287\n",
      "State[T.WV]                     -8.1512      1.545     -5.276      0.000     -11.181      -5.122\n",
      "State[T.WY]                      3.5771      2.018      1.773      0.076      -0.380       7.534\n",
      "rate                            -0.8635      0.159     -5.420      0.000      -1.176      -0.551\n",
      "median_household_income_2018    -0.0002    1.7e-05     -9.344      0.000      -0.000      -0.000\n",
      "low_edu                          0.3935      0.021     18.505      0.000       0.352       0.435\n",
      "density                          0.0004      0.000      2.524      0.012    7.84e-05       0.001\n",
      "total_cases_per1000              0.0510      0.012      4.257      0.000       0.027       0.074\n",
      "death_rate                      -0.1287      0.093     -1.378      0.168      -0.312       0.054\n",
      "population                      -5.8129      0.658     -8.830      0.000      -7.104      -4.522\n",
      "white_total                      0.5991      0.024     24.746      0.000       0.552       0.647\n",
      "his_total                       -0.5921      0.021    -27.863      0.000      -0.634      -0.550\n",
      "black_total                     -0.1955      0.028     -6.940      0.000      -0.251      -0.140\n",
      "==============================================================================\n",
      "Omnibus:                      322.387   Durbin-Watson:                   1.961\n",
      "Prob(Omnibus):                  0.000   Jarque-Bera (JB):              978.899\n",
      "Skew:                          -0.587   Prob(JB):                    2.72e-213\n",
      "Kurtosis:                       5.619   Cond. No.                     2.89e+06\n",
      "==============================================================================\n",
      "\n",
      "Notes:\n",
      "[1] Standard Errors assume that the covariance matrix of the errors is correctly specified.\n",
      "[2] The condition number is large, 2.89e+06. This might indicate that there are\n",
      "strong multicollinearity or other numerical problems.\n"
     ]
    }
   ],
   "source": [
    "m2 = smf.ols(formula = \n",
    "           'percent ~ State + rate + median_household_income_2018 + low_edu +  density + total_cases_per1000 + death_rate + population  + white_total + his_total + black_total',\n",
    "          data = df).fit()\n",
    "print(m2.summary())"
   ]
  },
  {
   "cell_type": "code",
   "execution_count": 768,
   "metadata": {},
   "outputs": [
    {
     "data": {
      "text/plain": [
       "0       4.2\n",
       "1       3.8\n",
       "2       2.9\n",
       "3       3.1\n",
       "4       3.9\n",
       "       ... \n",
       "2847    3.0\n",
       "2848    2.9\n",
       "2849    3.2\n",
       "2850    3.5\n",
       "2851    3.0\n",
       "Name: rate, Length: 2852, dtype: float64"
      ]
     },
     "execution_count": 768,
     "metadata": {},
     "output_type": "execute_result"
    }
   ],
   "source": [
    "df.rate"
   ]
  },
  {
   "cell_type": "code",
   "execution_count": 715,
   "metadata": {},
   "outputs": [
    {
     "name": "stdout",
     "output_type": "stream",
     "text": [
      "                            OLS Regression Results                            \n",
      "==============================================================================\n",
      "Dep. Variable:                percent   R-squared:                       0.758\n",
      "Model:                            OLS   Adj. R-squared:                  0.753\n",
      "Method:                 Least Squares   F-statistic:                     153.2\n",
      "Date:                Sun, 22 Nov 2020   Prob (F-statistic):               0.00\n",
      "Time:                        03:46:12   Log-Likelihood:                -9820.4\n",
      "No. Observations:                2852   AIC:                         1.976e+04\n",
      "Df Residuals:                    2794   BIC:                         2.010e+04\n",
      "Df Model:                          57                                         \n",
      "Covariance Type:            nonrobust                                         \n",
      "================================================================================================\n",
      "                                   coef    std err          t      P>|t|      [0.025      0.975]\n",
      "------------------------------------------------------------------------------------------------\n",
      "Intercept                       25.5055      3.052      8.356      0.000      19.521      31.490\n",
      "State[T.AR]                     -3.1660      1.331     -2.379      0.017      -5.775      -0.557\n",
      "State[T.AZ]                      1.7022      2.519      0.676      0.499      -3.238       6.642\n",
      "State[T.CA]                     -9.1065      1.730     -5.264      0.000     -12.499      -5.714\n",
      "State[T.CO]                     -8.0550      1.568     -5.138      0.000     -11.129      -4.981\n",
      "State[T.CT]                    -17.7461      3.335     -5.320      0.000     -24.286     -11.206\n",
      "State[T.DE]                     -9.6631      5.504     -1.756      0.079     -20.455       1.129\n",
      "State[T.FL]                     -0.7422      1.398     -0.531      0.596      -3.484       1.999\n",
      "State[T.GA]                      1.8875      1.134      1.664      0.096      -0.337       4.112\n",
      "State[T.HI]                     -0.3833      4.290     -0.089      0.929      -8.796       8.029\n",
      "State[T.IA]                    -13.4285      1.331    -10.087      0.000     -16.039     -10.818\n",
      "State[T.ID]                     -1.4324      1.601     -0.895      0.371      -4.571       1.706\n",
      "State[T.IL]                     -7.2562      1.335     -5.437      0.000      -9.873      -4.639\n",
      "State[T.IN]                     -8.8761      1.329     -6.681      0.000     -11.481      -6.271\n",
      "State[T.KS]                      0.2533      1.301      0.195      0.846      -2.297       2.804\n",
      "State[T.KY]                     -9.3369      1.294     -7.216      0.000     -11.874      -6.800\n",
      "State[T.MA]                    -30.4347      2.414    -12.610      0.000     -35.167     -25.702\n",
      "State[T.MD]                     -6.0088      2.030     -2.960      0.003      -9.990      -2.028\n",
      "State[T.ME]                    -28.9468      2.214    -13.077      0.000     -33.287     -24.606\n",
      "State[T.MI]                    -13.0525      1.423     -9.176      0.000     -15.842     -10.263\n",
      "State[T.MN]                    -12.9704      1.409     -9.205      0.000     -15.733     -10.207\n",
      "State[T.MO]                     -4.9918      1.278     -3.906      0.000      -7.498      -2.486\n",
      "State[T.MS]                      0.2381      1.350      0.176      0.860      -2.408       2.884\n",
      "State[T.MT]                     -4.4382      1.564     -2.838      0.005      -7.504      -1.372\n",
      "State[T.NC]                     -4.8644      1.251     -3.889      0.000      -7.317      -2.412\n",
      "State[T.ND]                     -4.2452      1.531     -2.773      0.006      -7.247      -1.244\n",
      "State[T.NE]                      2.1809      1.351      1.615      0.107      -0.468       4.829\n",
      "State[T.NH]                    -28.9202      2.927     -9.879      0.000     -34.660     -23.180\n",
      "State[T.NJ]                     -7.1061      2.098     -3.388      0.001     -11.219      -2.993\n",
      "State[T.NM]                      3.5553      2.092      1.699      0.089      -0.547       7.657\n",
      "State[T.NV]                      5.8508      2.286      2.559      0.011       1.368      10.333\n",
      "State[T.NY]                    -12.8009      1.503     -8.518      0.000     -15.748      -9.854\n",
      "State[T.OH]                     -7.9168      1.366     -5.797      0.000     -10.595      -5.239\n",
      "State[T.OK]                      8.4502      1.400      6.037      0.000       5.705      11.195\n",
      "State[T.OR]                    -12.8033      1.727     -7.414      0.000     -16.190      -9.417\n",
      "State[T.PA]                     -8.9897      1.468     -6.122      0.000     -11.869      -6.111\n",
      "State[T.RI]                    -28.9919      3.612     -8.027      0.000     -36.074     -21.909\n",
      "State[T.SC]                     -2.3127      1.480     -1.563      0.118      -5.214       0.589\n",
      "State[T.SD]                     -5.0585      1.491     -3.393      0.001      -7.982      -2.135\n",
      "State[T.TN]                     -5.1612      1.290     -4.001      0.000      -7.691      -2.632\n",
      "State[T.TX]                     10.8754      1.245      8.737      0.000       8.435      13.316\n",
      "State[T.UT]                      3.4168      1.845      1.852      0.064      -0.202       7.035\n",
      "State[T.VA]                     -4.5754      1.273     -3.594      0.000      -7.072      -2.079\n",
      "State[T.VT]                    -42.0630      2.392    -17.583      0.000     -46.754     -37.372\n",
      "State[T.WA]                    -12.3954      1.782     -6.956      0.000     -15.890      -8.901\n",
      "State[T.WI]                    -17.8782      1.436    -12.450      0.000     -20.694     -15.062\n",
      "State[T.WV]                     -7.9506      1.542     -5.155      0.000     -10.975      -4.926\n",
      "State[T.WY]                      3.4908      2.013      1.734      0.083      -0.457       7.439\n",
      "rate                            -0.8562      0.159     -5.388      0.000      -1.168      -0.545\n",
      "median_household_income_2018    -0.0002   1.71e-05     -8.778      0.000      -0.000      -0.000\n",
      "low_edu                          0.3838      0.021     18.059      0.000       0.342       0.425\n",
      "density                          0.0004      0.000      3.135      0.002       0.000       0.001\n",
      "total_cases_per1000:urban       -0.1092      0.028     -3.883      0.000      -0.164      -0.054\n",
      "total_cases_per1000              0.0506      0.012      4.233      0.000       0.027       0.074\n",
      "population                      -4.6329      0.725     -6.390      0.000      -6.054      -3.211\n",
      "white_total                      0.5921      0.024     24.453      0.000       0.545       0.640\n",
      "his_total                       -0.5798      0.021    -27.126      0.000      -0.622      -0.538\n",
      "black_total                     -0.1939      0.028     -6.904      0.000      -0.249      -0.139\n",
      "==============================================================================\n",
      "Omnibus:                      329.339   Durbin-Watson:                   1.960\n",
      "Prob(Omnibus):                  0.000   Jarque-Bera (JB):             1048.628\n",
      "Skew:                          -0.585   Prob(JB):                    1.96e-228\n",
      "Kurtosis:                       5.730   Cond. No.                     2.88e+06\n",
      "==============================================================================\n",
      "\n",
      "Notes:\n",
      "[1] Standard Errors assume that the covariance matrix of the errors is correctly specified.\n",
      "[2] The condition number is large, 2.88e+06. This might indicate that there are\n",
      "strong multicollinearity or other numerical problems.\n"
     ]
    }
   ],
   "source": [
    "m3 = smf.ols(formula = \n",
    "           'percent ~ State + rate + median_household_income_2018 + low_edu +  density + total_cases_per1000:urban + total_cases_per1000 +population  + white_total + his_total + black_total',\n",
    "          data = df).fit()\n",
    "print(m3.summary())"
   ]
  },
  {
   "cell_type": "code",
   "execution_count": 760,
   "metadata": {},
   "outputs": [
    {
     "data": {
      "text/html": [
       "<div>\n",
       "<style scoped>\n",
       "    .dataframe tbody tr th:only-of-type {\n",
       "        vertical-align: middle;\n",
       "    }\n",
       "\n",
       "    .dataframe tbody tr th {\n",
       "        vertical-align: top;\n",
       "    }\n",
       "\n",
       "    .dataframe thead th {\n",
       "        text-align: right;\n",
       "    }\n",
       "</style>\n",
       "<table border=\"1\" class=\"dataframe\">\n",
       "  <thead>\n",
       "    <tr style=\"text-align: right;\">\n",
       "      <th></th>\n",
       "      <th>death_rate</th>\n",
       "      <th>total_cases_per1000</th>\n",
       "      <th>density</th>\n",
       "      <th>low_edu</th>\n",
       "      <th>rate</th>\n",
       "      <th>poverty</th>\n",
       "      <th>white_total</th>\n",
       "      <th>black_total</th>\n",
       "      <th>his_total</th>\n",
       "      <th>population</th>\n",
       "      <th>won</th>\n",
       "      <th>median_household_income_2018</th>\n",
       "      <th>total_deaths_per1000</th>\n",
       "    </tr>\n",
       "    <tr>\n",
       "      <th>won</th>\n",
       "      <th></th>\n",
       "      <th></th>\n",
       "      <th></th>\n",
       "      <th></th>\n",
       "      <th></th>\n",
       "      <th></th>\n",
       "      <th></th>\n",
       "      <th></th>\n",
       "      <th></th>\n",
       "      <th></th>\n",
       "      <th></th>\n",
       "      <th></th>\n",
       "      <th></th>\n",
       "    </tr>\n",
       "  </thead>\n",
       "  <tbody>\n",
       "    <tr>\n",
       "      <th>False</th>\n",
       "      <td>2.089269</td>\n",
       "      <td>26.185041</td>\n",
       "      <td>157.949370</td>\n",
       "      <td>21.0</td>\n",
       "      <td>3.8</td>\n",
       "      <td>14.3</td>\n",
       "      <td>79.346182</td>\n",
       "      <td>8.963665</td>\n",
       "      <td>5.604982</td>\n",
       "      <td>0.128990</td>\n",
       "      <td>431</td>\n",
       "      <td>56168.0</td>\n",
       "      <td>0.542913</td>\n",
       "    </tr>\n",
       "    <tr>\n",
       "      <th>True</th>\n",
       "      <td>1.472557</td>\n",
       "      <td>24.859717</td>\n",
       "      <td>38.937315</td>\n",
       "      <td>24.6</td>\n",
       "      <td>3.6</td>\n",
       "      <td>14.0</td>\n",
       "      <td>94.156090</td>\n",
       "      <td>1.695872</td>\n",
       "      <td>2.960507</td>\n",
       "      <td>0.022195</td>\n",
       "      <td>2421</td>\n",
       "      <td>49991.0</td>\n",
       "      <td>0.366122</td>\n",
       "    </tr>\n",
       "  </tbody>\n",
       "</table>\n",
       "</div>"
      ],
      "text/plain": [
       "       death_rate  total_cases_per1000     density  low_edu  rate  poverty  \\\n",
       "won                                                                          \n",
       "False    2.089269            26.185041  157.949370     21.0   3.8     14.3   \n",
       "True     1.472557            24.859717   38.937315     24.6   3.6     14.0   \n",
       "\n",
       "       white_total  black_total  his_total  population   won  \\\n",
       "won                                                            \n",
       "False    79.346182     8.963665   5.604982    0.128990   431   \n",
       "True     94.156090     1.695872   2.960507    0.022195  2421   \n",
       "\n",
       "       median_household_income_2018  total_deaths_per1000  \n",
       "won                                                        \n",
       "False                       56168.0              0.542913  \n",
       "True                        49991.0              0.366122  "
      ]
     },
     "execution_count": 760,
     "metadata": {},
     "output_type": "execute_result"
    }
   ],
   "source": [
    "# summary statistics\n",
    "df.groupby('won').aggregate({'death_rate':np.median, 'total_cases_per1000':np.median,\n",
    "                            'density':np.median, 'low_edu': np.median, 'rate':np.median,\n",
    "                            'poverty':np.median, 'white_total':np.median, 'black_total':np.median,\n",
    "                            'his_total':np.median, 'population':np.median, 'won':'count',\n",
    "                            'median_household_income_2018':np.median, 'total_deaths_per1000':np.median})"
   ]
  },
  {
   "cell_type": "code",
   "execution_count": 758,
   "metadata": {},
   "outputs": [
    {
     "data": {
      "text/plain": [
       "0.20957711593649506"
      ]
     },
     "execution_count": 758,
     "metadata": {},
     "output_type": "execute_result"
    }
   ],
   "source": [
    "from scipy.stats import median_test\n",
    "median_test(df.total_cases_per1000[df.won==True], df.total_cases_per1000[df.won==False])[1]"
   ]
  },
  {
   "cell_type": "code",
   "execution_count": 193,
   "metadata": {},
   "outputs": [],
   "source": [
    "# bootstrapping (stratefied)\n",
    "import sklearn \n",
    "dt = df[['rate', 'median_household_income_2018', \n",
    "       'low_edu', 'logpop', 'log_cases_per1000',\n",
    "       'death_rate','poverty','State','percent','total_votes']]"
   ]
  },
  {
   "cell_type": "code",
   "execution_count": 194,
   "metadata": {},
   "outputs": [],
   "source": [
    "dm = {\"AL\": 9, \"AK\": 3, \"AZ\": 11, \"AR\": 6, \"CA\": 55,\n",
    "        \"CO\": 9, \"CT\": 7, \"DE\": 3, \"DC\": 3,\n",
    "        \"FL\": 29, \"GA\": 16, \"HI\": 4, \"ID\": 4, \"IL\": 20, \"IN\": 11,\n",
    "        \"IA\": 6, \"KS\": 6, \"KY\": 8, \"LA\": 8, \"ME\": 4, \"MD\": 10,\n",
    "        \"MA\": 11, \"MI\": 16, \"MN\": 10, \"MS\": 6, \"MO\": 10,\n",
    "        \"MT\": 3, \"NE\": 5, \"NV\": 6, \"NH\": 4 , \"NJ\": 14,\n",
    "        \"NM\": 5, \"NY\": 29, \"NC\": 15, \"ND\": 3, \"OH\": 18,\n",
    "        \"OK\": 7, \"OR\": 7, \"PA\": 20, \"PR\": 0, \"RI\": 4,\n",
    "        \"SC\": 9, \"SD\": 3, \"TN\": 11, \"TX\": 38, \"UT\": 6,\n",
    "        \"VT\": 3, \"VA\": 13, \"WA\": 12, \"WV\": 5, \"WI\": 10,\n",
    "        \"WY\": 3}"
   ]
  },
  {
   "cell_type": "code",
   "execution_count": 197,
   "metadata": {},
   "outputs": [],
   "source": [
    "deaths = np.quantile(df.death_rate, 0.25)\n",
    "cases = np.quantile(df.log_cases_per1000, 0.25)"
   ]
  },
  {
   "cell_type": "code",
   "execution_count": 261,
   "metadata": {},
   "outputs": [],
   "source": [
    "def bootstrap(data, cases, deaths,dm):\n",
    "    samples = sklearn.utils.resample(data, stratify = data.State) # sample the data\n",
    "    m = smf.ols(formula = \n",
    "           'percent ~ rate + median_household_income_2018 + low_edu + logpop + log_cases_per1000 + death_rate + poverty + State',\n",
    "          data = samples).fit() # fit the model\n",
    "    dt_new = dt[['rate','median_household_income_2018','low_edu','logpop','poverty','State','total_votes']] \n",
    "    dt_new['log_cases_per1000'] = np.repeat(cases, samples.shape[0])\n",
    "    dt_new['death_rate'] = np.repeat(deaths, samples.shape[0])\n",
    "    predictions = m.predict(dt_new) # prediction with new data set\n",
    "    for i in range(samples.shape[0]):\n",
    "        if predictions[i]>1:\n",
    "            predictions[i] = 1\n",
    "        elif predictions[i]<0:\n",
    "            predictions[i] = 0\n",
    "        else:\n",
    "            continue\n",
    "    da = pd.DataFrame({'predictions': predictions, 'State':dt_new.State, 'total_votes':dt_new.total_votes})\n",
    "    da['votes'] = da.predictions*da.total_votes\n",
    "    groupings = da.groupby('State').aggregate({'votes':np.sum, 'total_votes':np.sum})\n",
    "    groupings.columns = ['votes', 'total_votes']\n",
    "    groupings.percent = groupings.votes/groupings.total_votes\n",
    "    \n",
    "    elec = 0\n",
    "    for i in range(groupings.shape[0]):\n",
    "        if groupings.percent[i]>=0.5:\n",
    "            elec += dm[groupings.index[i]]\n",
    "    return elec\n"
   ]
  },
  {
   "cell_type": "code",
   "execution_count": 264,
   "metadata": {},
   "outputs": [],
   "source": [
    "import warnings\n",
    "warnings.filterwarnings(\"ignore\")\n",
    "B = 5000\n",
    "elec = [0]*B\n",
    "for i in range(B):\n",
    "    elec[i] = bootstrap(df, cases, deaths, dm)"
   ]
  },
  {
   "cell_type": "code",
   "execution_count": 279,
   "metadata": {},
   "outputs": [
    {
     "name": "stdout",
     "output_type": "stream",
     "text": [
      "315.4252 282.0 343.0\n"
     ]
    },
    {
     "data": {
      "image/png": "[encoded data removed]",
      "text/plain": [
       "<Figure size 432x288 with 1 Axes>"
      ]
     },
     "metadata": {
      "needs_background": "light"
     },
     "output_type": "display_data"
    }
   ],
   "source": [
    "import matplotlib.pyplot as plt\n",
    "plt.hist(elec, bins = 20)\n",
    "avg = np.mean(elec)\n",
    "lower = np.quantile(elec, 0.025)\n",
    "upper = np.quantile(elec, 0.975)\n",
    "print(avg, lower, upper)"
   ]
  },
  {
   "cell_type": "code",
   "execution_count": 296,
   "metadata": {},
   "outputs": [],
   "source": [
    "deaths2 = np.quantile(df.death_rate, 0.9)\n",
    "cases2 = np.quantile(df.log_cases_per1000, 0.9)\n",
    "B = 5000\n",
    "elec2 = [0]*B\n",
    "for i in range(B):\n",
    "    elec2[i] = bootstrap(df, cases2, deaths2, dm)"
   ]
  },
  {
   "cell_type": "code",
   "execution_count": 298,
   "metadata": {},
   "outputs": [
    {
     "name": "stdout",
     "output_type": "stream",
     "text": [
      "256.6028 241.0 276.0\n"
     ]
    },
    {
     "data": {
      "image/png": "[encoded data removed]",
      "text/plain": [
       "<Figure size 432x288 with 1 Axes>"
      ]
     },
     "metadata": {
      "needs_background": "light"
     },
     "output_type": "display_data"
    }
   ],
   "source": [
    "plt.hist(elec2, bins = 20)\n",
    "avg = np.mean(elec2)\n",
    "lower = np.quantile(elec2, 0.025)\n",
    "upper = np.quantile(elec2, 0.975)\n",
    "print(avg, lower, upper)"
   ]
  },
  {
   "cell_type": "code",
   "execution_count": null,
   "metadata": {},
   "outputs": [],
   "source": [
    "# how often each state trump will win ?? for each bootstrapping calculate this"
   ]
  },
  {
   "cell_type": "code",
   "execution_count": 306,
   "metadata": {},
   "outputs": [],
   "source": [
    "by_state = df.groupby('State').aggregate({'total_cases':np.sum, 'total_deaths':np.sum, 'population':np.sum})\n",
    "by_state['rate'] = by_state.total_deaths/by_state.total_cases"
   ]
  },
  {
   "cell_type": "code",
   "execution_count": 308,
   "metadata": {},
   "outputs": [
    {
     "data": {
      "text/plain": [
       "array([[1.        , 0.14348071],\n",
       "       [0.14348071, 1.        ]])"
      ]
     },
     "execution_count": 308,
     "metadata": {},
     "output_type": "execute_result"
    }
   ],
   "source": [
    "np.corrcoef(by_state.rate, by_state.population)"
   ]
  },
  {
   "cell_type": "code",
   "execution_count": 661,
   "metadata": {},
   "outputs": [
    {
     "data": {
      "text/plain": [
       "22.406346586646663"
      ]
     },
     "execution_count": 661,
     "metadata": {},
     "output_type": "execute_result"
    }
   ],
   "source": [
    " (1493383/66650000)*1000"
   ]
  },
  {
   "cell_type": "code",
   "execution_count": 670,
   "metadata": {},
   "outputs": [
    {
     "data": {
      "text/plain": [
       "0       18.425099\n",
       "1       32.097342\n",
       "2       35.131931\n",
       "3       57.685724\n",
       "4       36.913654\n",
       "          ...    \n",
       "2847     1.530288\n",
       "2848     1.458312\n",
       "2849     2.820093\n",
       "2850     1.018423\n",
       "2851     7.693231\n",
       "Name: total_cases_per1000, Length: 2852, dtype: float64"
      ]
     },
     "execution_count": 670,
     "metadata": {},
     "output_type": "execute_result"
    }
   ],
   "source": [
    "df.total_cases_per1000"
   ]
  },
  {
   "cell_type": "code",
   "execution_count": 716,
   "metadata": {},
   "outputs": [
    {
     "data": {
      "text/plain": [
       "27.28552664127732"
      ]
     },
     "execution_count": 716,
     "metadata": {},
     "output_type": "execute_result"
    }
   ],
   "source": [
    "df.total_cases.sum()/(df.population.sum()*1000000)*1000"
   ]
  },
  {
   "cell_type": "code",
   "execution_count": 759,
   "metadata": {},
   "outputs": [
    {
     "data": {
      "text/plain": [
       "275.303354"
      ]
     },
     "execution_count": 759,
     "metadata": {},
     "output_type": "execute_result"
    }
   ],
   "source": [
    "df.population.sum()"
   ]
  },
  {
   "cell_type": "code",
   "execution_count": null,
   "metadata": {},
   "outputs": [],
   "source": []
  }
 ],
 "metadata": {
  "kernelspec": {
   "display_name": "Python 3",
   "language": "python",
   "name": "python3"
  },
  "language_info": {
   "codemirror_mode": {
    "name": "ipython",
    "version": 3
   },
   "file_extension": ".py",
   "mimetype": "text/x-python",
   "name": "python",
   "nbconvert_exporter": "python",
   "pygments_lexer": "ipython3",
   "version": "3.8.1"
  }
 },
 "nbformat": 4,
 "nbformat_minor": 4
}
