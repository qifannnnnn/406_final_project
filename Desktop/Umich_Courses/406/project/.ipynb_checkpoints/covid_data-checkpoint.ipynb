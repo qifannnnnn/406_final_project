{
 "cells": [
  {
   "cell_type": "code",
   "execution_count": 1,
   "metadata": {},
   "outputs": [],
   "source": [
    "import pandas as pd\n",
    "import numpy as np"
   ]
  },
  {
   "cell_type": "code",
   "execution_count": 80,
   "metadata": {},
   "outputs": [],
   "source": [
    "pop = pd.read_csv('population.csv')\n",
    "cases = pd.read_csv('covid_confirmed_usafacts.csv')\n",
    "deaths = pd.read_csv('covid_deaths_usafacts.csv')\n",
    "pop = pop.drop('countyFIPS', axis=1)"
   ]
  },
  {
   "cell_type": "code",
   "execution_count": 81,
   "metadata": {},
   "outputs": [],
   "source": [
    "def monthly_data(dt, start):\n",
    "    # starting with index 4\n",
    "    res = dt[['County Name','State']]\n",
    "    idx = start\n",
    "    while idx+30 < dt.shape[1]:\n",
    "        temp = dt.iloc[:,idx+30]\n",
    "        col_name = 'month' + str((idx-4)/30)\n",
    "        res[col_name] = temp\n",
    "        idx += 30\n",
    "    return res"
   ]
  },
  {
   "cell_type": "code",
   "execution_count": 75,
   "metadata": {},
   "outputs": [
    {
     "name": "stderr",
     "output_type": "stream",
     "text": [
      "<ipython-input-74-b071c73a16a6>:8: SettingWithCopyWarning: \n",
      "A value is trying to be set on a copy of a slice from a DataFrame.\n",
      "Try using .loc[row_indexer,col_indexer] = value instead\n",
      "\n",
      "See the caveats in the documentation: http://pandas.pydata.org/pandas-docs/stable/user_guide/indexing.html#returning-a-view-versus-a-copy\n",
      "  res[col_name] = temp\n"
     ]
    }
   ],
   "source": [
    "dx  = monthly_data(cases, 4)\n",
    "dy = monthly_data(deaths, 4)\n",
    "df = dx.merge(dy, on=['County Name', 'State'])\n",
    "df = df.merge(pop, on=['County Name', 'State'])"
   ]
  },
  {
   "cell_type": "code",
   "execution_count": 76,
   "metadata": {},
   "outputs": [],
   "source": [
    "df.to_csv('data/covid_data.csv')"
   ]
  },
  {
   "cell_type": "code",
   "execution_count": 77,
   "metadata": {},
   "outputs": [
    {
     "data": {
      "text/plain": [
       "Index(['County Name', 'State', 'month0.0_x', 'month1.0_x', 'month2.0_x',\n",
       "       'month3.0_x', 'month4.0_x', 'month5.0_x', 'month6.0_x', 'month7.0_x',\n",
       "       'month8.0_x', 'month0.0_y', 'month1.0_y', 'month2.0_y', 'month3.0_y',\n",
       "       'month4.0_y', 'month5.0_y', 'month6.0_y', 'month7.0_y', 'month8.0_y',\n",
       "       'population'],\n",
       "      dtype='object')"
      ]
     },
     "execution_count": 77,
     "metadata": {},
     "output_type": "execute_result"
    }
   ],
   "source": [
    "df.columns"
   ]
  },
  {
   "cell_type": "code",
   "execution_count": null,
   "metadata": {},
   "outputs": [],
   "source": []
  },
  {
   "cell_type": "code",
   "execution_count": null,
   "metadata": {},
   "outputs": [],
   "source": []
  },
  {
   "cell_type": "code",
   "execution_count": null,
   "metadata": {},
   "outputs": [],
   "source": []
  },
  {
   "cell_type": "code",
   "execution_count": null,
   "metadata": {},
   "outputs": [],
   "source": []
  }
 ],
 "metadata": {
  "kernelspec": {
   "display_name": "Python 3",
   "language": "python",
   "name": "python3"
  },
  "language_info": {
   "codemirror_mode": {
    "name": "ipython",
    "version": 3
   },
   "file_extension": ".py",
   "mimetype": "text/x-python",
   "name": "python",
   "nbconvert_exporter": "python",
   "pygments_lexer": "ipython3",
   "version": "3.8.1"
  }
 },
 "nbformat": 4,
 "nbformat_minor": 4
}
