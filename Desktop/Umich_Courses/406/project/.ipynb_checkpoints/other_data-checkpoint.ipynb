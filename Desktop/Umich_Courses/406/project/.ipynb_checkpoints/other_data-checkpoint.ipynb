{
 "cells": [
  {
   "cell_type": "code",
   "execution_count": 1,
   "metadata": {},
   "outputs": [],
   "source": [
    "import pandas as pd\n",
    "import numpy as np"
   ]
  },
  {
   "cell_type": "code",
   "execution_count": 5,
   "metadata": {},
   "outputs": [],
   "source": [
    "un = pd.read_csv('Unemployment.csv')\n",
    "edu = pd.read_csv('Education.csv')\n",
    "pov = pd.read_csv('PovertyEstimates.csv')"
   ]
  },
  {
   "cell_type": "code",
   "execution_count": 29,
   "metadata": {},
   "outputs": [],
   "source": [
    "da = un[['Stabr','area_name',' Civilian_labor_force_2019 ',' Employed_2019 ',' Unemployed_2019 ', 'Unemployment_rate_2019','Median_Household_Income_2018']]\n",
    "db = edu[['State', 'Area_name', 'Less_than_high_school_diploma_2014_2018',\n",
    "     'High_school_only',\"Some_college_or_associate's_degree\",\"Bachelor's_degree_or_higher\",\n",
    "     'Percent_high_school', 'Percent_high_school',\"Percent_adults_college_or_associate's_degree\",\n",
    "     \"Percent_bachelor's_degree_or_higher\"]]\n",
    "\n",
    "dc = pov[['Stabr', 'Area_name', 'PCTPOVALL_2018']]"
   ]
  },
  {
   "cell_type": "code",
   "execution_count": 39,
   "metadata": {},
   "outputs": [
    {
     "name": "stderr",
     "output_type": "stream",
     "text": [
      "/Library/Frameworks/Python.framework/Versions/3.8/lib/python3.8/site-packages/pandas/core/generic.py:5208: SettingWithCopyWarning: \n",
      "A value is trying to be set on a copy of a slice from a DataFrame.\n",
      "Try using .loc[row_indexer,col_indexer] = value instead\n",
      "\n",
      "See the caveats in the documentation: http://pandas.pydata.org/pandas-docs/stable/user_guide/indexing.html#returning-a-view-versus-a-copy\n",
      "  self[name] = value\n"
     ]
    }
   ],
   "source": [
    "da.Area_name = [x.split(',')[0] for x in da.Area_name]"
   ]
  },
  {
   "cell_type": "code",
   "execution_count": 41,
   "metadata": {},
   "outputs": [],
   "source": [
    "dc.columns = ['State', 'Area_name', 'PCTPOVALL_2018']\n",
    "da.columns = ['State','Area_name',' Civilian_labor_force_2019 ',' Employed_2019 ',' Unemployed_2019 ', 'Unemployment_rate_2019','Median_Household_Income_2018']\n",
    "df = da.merge(db, on=['State', 'Area_name'])\n",
    "df = df.merge(dc, on=['State', 'Area_name'])"
   ]
  },
  {
   "cell_type": "code",
   "execution_count": 43,
   "metadata": {},
   "outputs": [],
   "source": [
    "df.to_csv('data/other_data.csv')"
   ]
  },
  {
   "cell_type": "code",
   "execution_count": null,
   "metadata": {},
   "outputs": [],
   "source": []
  }
 ],
 "metadata": {
  "kernelspec": {
   "display_name": "Python 3",
   "language": "python",
   "name": "python3"
  },
  "language_info": {
   "codemirror_mode": {
    "name": "ipython",
    "version": 3
   },
   "file_extension": ".py",
   "mimetype": "text/x-python",
   "name": "python",
   "nbconvert_exporter": "python",
   "pygments_lexer": "ipython3",
   "version": "3.8.1"
  }
 },
 "nbformat": 4,
 "nbformat_minor": 4
}
