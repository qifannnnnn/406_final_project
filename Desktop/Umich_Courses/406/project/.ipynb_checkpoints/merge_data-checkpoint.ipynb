{
 "cells": [
  {
   "cell_type": "code",
   "execution_count": 129,
   "metadata": {},
   "outputs": [],
   "source": [
    "import pandas as pd\n",
    "import numpy as np\n",
    "\n",
    "pred = pd.read_csv('data/presidential_data.csv')\n",
    "covid = pd.read_csv('data/covid_data.csv')\n",
    "other = pd.read_csv('data/other_data.csv')"
   ]
  },
  {
   "cell_type": "code",
   "execution_count": 130,
   "metadata": {},
   "outputs": [],
   "source": [
    "# unify the column names\n",
    "pred = pred[['State', 'county', 'candidate', 'party', 'votes', 'won', 'total_votes', 'percent']]\n",
    "pred.county = [' '.join(x.split()[:-1])\n",
    "               if (x.split()[-1]=='county' or  x.split()[-1]=='County') else x for x in pred.county]\n",
    "pred.columns = ['State', 'County Name', 'candidate', 'party', 'votes', 'won', 'total_votes', 'percent']\n",
    "\n",
    "covid = covid[['State', 'County Name', 'population'] + list(covid.columns[3:-1])]\n",
    "covid.columns = ['State', 'County Name', 'population'] + ['case' + str(i+1) for i in range(9)] +['death' + str(i+1) for i in range(9)]\n",
    "covid['County Name'] = [' '.join(x.split()[:-1])\n",
    "               if (x.split()[-1]=='county' or  x.split()[-1]=='County') else x for x in covid['County Name']]  \n",
    "    \n",
    "other = other.drop('Unnamed: 0', axis = 1)\n",
    "other.Area_name = [' '.join(x.split()[:-1])\n",
    "               if (x.split()[-1]=='county' or  x.split()[-1]=='County') else x for x in other.Area_name]\n",
    "other.columns = ['State', 'County Name', 'labor_force_2019', 'employed', 'unemployed',\n",
    "                'rate', 'median_household_income_2018', 'less_than_high_school_2014_18',\n",
    "                'high_school', 'college', 'bachelor_or_higher', 'percent_less_than_high_school',\n",
    "                'percent_high_school', 'percent_college', 'percent_bachelor_or_higher','poverty']\n",
    "\n",
    "    "
   ]
  },
  {
   "cell_type": "code",
   "execution_count": 131,
   "metadata": {},
   "outputs": [],
   "source": [
    "# merge the data\n",
    "df = pred.merge(covid, on=['State','County Name'])\n",
    "df = df.merge(other,on=['State','County Name'] )"
   ]
  },
  {
   "cell_type": "code",
   "execution_count": 132,
   "metadata": {},
   "outputs": [],
   "source": [
    "# add total covid data\n",
    "df['total_cases'] = df['case1'] + df['case2'] + df['case3'] + df['case4'] + df['case5'] + df['case6'] + df['case7'] + df['case8'] + df['case9']\n",
    "df['total_deaths'] = df['death1'] + df['death2'] + df['death3'] + df['death4'] + df['death5'] + df['death6'] + df['death7'] + df['death8'] + df['death9']\n",
    "df['death_rate'] = df.total_deaths/(df.total_cases + 0.0001)\n",
    "df['total_cases_per1000'] =1000*df.total_cases/df.population\n",
    "df['total_deaths_per1000'] =1000*df.total_deaths/df.population\n"
   ]
  },
  {
   "cell_type": "code",
   "execution_count": 289,
   "metadata": {},
   "outputs": [
    {
     "name": "stdout",
     "output_type": "stream",
     "text": [
      "                            OLS Regression Results                            \n",
      "==============================================================================\n",
      "Dep. Variable:                      Y   R-squared:                       0.376\n",
      "Model:                            OLS   Adj. R-squared:                  0.365\n",
      "Method:                 Least Squares   F-statistic:                     33.21\n",
      "Date:                Tue, 17 Nov 2020   Prob (F-statistic):          3.09e-265\n",
      "Time:                        18:03:12   Log-Likelihood:                -579.84\n",
      "No. Observations:                3082   AIC:                             1272.\n",
      "Df Residuals:                    3026   BIC:                             1610.\n",
      "Df Model:                          55                                         \n",
      "Covariance Type:            nonrobust                                         \n",
      "================================================================================================\n",
      "                                   coef    std err          t      P>|t|      [0.025      0.975]\n",
      "------------------------------------------------------------------------------------------------\n",
      "Intercept                        2.6638      0.080     33.403      0.000       2.507       2.820\n",
      "State[T.AR]                      0.0125      0.050      0.251      0.802      -0.085       0.110\n",
      "State[T.AZ]                     -0.0253      0.087     -0.292      0.770      -0.195       0.144\n",
      "State[T.CA]                     -0.3248      0.058     -5.641      0.000      -0.438      -0.212\n",
      "State[T.CO]                     -0.2936      0.054     -5.443      0.000      -0.399      -0.188\n",
      "State[T.CT]                     -0.3768      0.113     -3.330      0.001      -0.599      -0.155\n",
      "State[T.DE]                     -0.3872      0.175     -2.218      0.027      -0.729      -0.045\n",
      "State[T.FL]                      0.0314      0.051      0.611      0.542      -0.069       0.132\n",
      "State[T.GA]                      0.0055      0.043      0.126      0.899      -0.079       0.090\n",
      "State[T.HI]                     -0.8031      0.154     -5.210      0.000      -1.105      -0.501\n",
      "State[T.IA]                     -0.0636      0.048     -1.314      0.189      -0.159       0.031\n",
      "State[T.ID]                     -0.0938      0.058     -1.617      0.106      -0.208       0.020\n",
      "State[T.IL]                     -0.0571      0.049     -1.168      0.243      -0.153       0.039\n",
      "State[T.IN]                      0.0025      0.049      0.051      0.959      -0.094       0.099\n",
      "State[T.KS]                     -0.1210      0.048     -2.520      0.012      -0.215      -0.027\n",
      "State[T.KY]                      0.0952      0.047      2.024      0.043       0.003       0.187\n",
      "State[T.LA]                      0.1196      0.053      2.240      0.025       0.015       0.224\n",
      "State[T.MA]                     -0.6337      0.092     -6.876      0.000      -0.814      -0.453\n",
      "State[T.MD]                     -0.1230      0.074     -1.659      0.097      -0.268       0.022\n",
      "State[T.ME]                     -0.4579      0.086     -5.346      0.000      -0.626      -0.290\n",
      "State[T.MI]                     -0.0474      0.052     -0.909      0.364      -0.150       0.055\n",
      "State[T.MN]                     -0.1377      0.051     -2.700      0.007      -0.238      -0.038\n",
      "State[T.MO]                     -0.0022      0.046     -0.046      0.963      -0.093       0.089\n",
      "State[T.MS]                     -0.0819      0.051     -1.600      0.110      -0.182       0.018\n",
      "State[T.MT]                     -0.1691      0.056     -3.031      0.002      -0.278      -0.060\n",
      "State[T.NC]                     -0.1221      0.048     -2.569      0.010      -0.215      -0.029\n",
      "State[T.ND]                     -0.0975      0.057     -1.724      0.085      -0.209       0.013\n",
      "State[T.NE]                     -0.1205      0.050     -2.413      0.016      -0.218      -0.023\n",
      "State[T.NH]                     -0.7836      0.113     -6.963      0.000      -1.004      -0.563\n",
      "State[T.NJ]                     -0.2513      0.078     -3.204      0.001      -0.405      -0.098\n",
      "State[T.NM]                     -0.2397      0.066     -3.636      0.000      -0.369      -0.110\n",
      "State[T.NV]                     -0.1170      0.083     -1.414      0.158      -0.279       0.045\n",
      "State[T.NY]                     -0.0192      0.055     -0.348      0.728      -0.127       0.089\n",
      "State[T.OH]                      0.0367      0.051      0.723      0.470      -0.063       0.136\n",
      "State[T.OK]                      0.0802      0.050      1.615      0.106      -0.017       0.178\n",
      "State[T.OR]                     -0.1987      0.064     -3.124      0.002      -0.324      -0.074\n",
      "State[T.PA]                     -0.0728      0.055     -1.319      0.187      -0.181       0.035\n",
      "State[T.RI]                     -0.7499      0.138     -5.436      0.000      -1.020      -0.479\n",
      "State[T.SC]                     -0.0576      0.057     -1.019      0.308      -0.168       0.053\n",
      "State[T.SD]                     -0.0588      0.053     -1.102      0.271      -0.164       0.046\n",
      "State[T.TN]                      0.0627      0.048      1.319      0.187      -0.031       0.156\n",
      "State[T.TX]                     -0.0241      0.042     -0.577      0.564      -0.106       0.058\n",
      "State[T.UT]                     -0.0586      0.067     -0.880      0.379      -0.189       0.072\n",
      "State[T.VA]                     -0.1785      0.047     -3.836      0.000      -0.270      -0.087\n",
      "State[T.VT]                     -0.9381      0.089    -10.504      0.000      -1.113      -0.763\n",
      "State[T.WA]                     -0.2106      0.064     -3.307      0.001      -0.335      -0.086\n",
      "State[T.WI]                     -0.1541      0.052     -2.950      0.003      -0.257      -0.052\n",
      "State[T.WV]                      0.0544      0.057      0.951      0.342      -0.058       0.167\n",
      "State[T.WY]                     -0.0703      0.073     -0.958      0.338      -0.214       0.074\n",
      "rate                            -0.0007      0.006     -0.118      0.906      -0.013       0.011\n",
      "median_household_income_2018  -9.79e-06   7.69e-07    -12.733      0.000   -1.13e-05   -8.28e-06\n",
      "low_edu                          0.0037      0.001      5.288      0.000       0.002       0.005\n",
      "logpop                          -0.0636      0.005    -12.154      0.000      -0.074      -0.053\n",
      "log_cases_per1000               -0.0308      0.009     -3.378      0.001      -0.049      -0.013\n",
      "death_rate                      -0.8710      0.270     -3.230      0.001      -1.400      -0.342\n",
      "poverty                         -0.0357      0.002    -19.960      0.000      -0.039      -0.032\n",
      "==============================================================================\n",
      "Omnibus:                      527.911   Durbin-Watson:                   1.956\n",
      "Prob(Omnibus):                  0.000   Jarque-Bera (JB):              904.354\n",
      "Skew:                          -1.109   Prob(JB):                    4.19e-197\n",
      "Kurtosis:                       4.457   Cond. No.                     2.89e+06\n",
      "==============================================================================\n",
      "\n",
      "Notes:\n",
      "[1] Standard Errors assume that the covariance matrix of the errors is correctly specified.\n",
      "[2] The condition number is large, 2.89e+06. This might indicate that there are\n",
      "strong multicollinearity or other numerical problems.\n"
     ]
    }
   ],
   "source": [
    "# fit a base model \n",
    "df['logpop'] = np.log(df.population)\n",
    "df['Y'] = [1 if i else 0 for i in df.won]\n",
    "df['log_deaths_per1000'] = np.log(df['total_deaths_per1000'] + 0.0001)\n",
    "df['log_cases_per1000'] = np.log(df['total_cases_per1000'] + 0.0001)\n",
    "df['low_edu'] = df['percent_less_than_high_school'] + df['percent_high_school']\n",
    "import statsmodels.api as sm\n",
    "import statsmodels.formula.api as smf\n",
    "\n",
    "Y = df['percent']\n",
    "X = df[['rate', 'median_household_income_2018', \n",
    "       'low_edu', 'logpop', 'log_cases_per1000',\n",
    "       'death_rate','poverty','State']]\n",
    "X = sm.add_constant(X) # state fixed effect?\n",
    "\n",
    "m = smf.ols(formula = \n",
    "           'Y ~ State + rate + median_household_income_2018 + low_edu + logpop + log_cases_per1000 + death_rate + poverty',\n",
    "          data = df).fit()\n",
    "print(m.summary()) "
   ]
  },
  {
   "cell_type": "code",
   "execution_count": 193,
   "metadata": {},
   "outputs": [],
   "source": [
    "# bootstrapping (stratefied)\n",
    "import sklearn \n",
    "dt = df[['rate', 'median_household_income_2018', \n",
    "       'low_edu', 'logpop', 'log_cases_per1000',\n",
    "       'death_rate','poverty','State','percent','total_votes']]"
   ]
  },
  {
   "cell_type": "code",
   "execution_count": 194,
   "metadata": {},
   "outputs": [],
   "source": [
    "dm = {\"AL\": 9, \"AK\": 3, \"AZ\": 11, \"AR\": 6, \"CA\": 55,\n",
    "        \"CO\": 9, \"CT\": 7, \"DE\": 3, \"DC\": 3,\n",
    "        \"FL\": 29, \"GA\": 16, \"HI\": 4, \"ID\": 4, \"IL\": 20, \"IN\": 11,\n",
    "        \"IA\": 6, \"KS\": 6, \"KY\": 8, \"LA\": 8, \"ME\": 4, \"MD\": 10,\n",
    "        \"MA\": 11, \"MI\": 16, \"MN\": 10, \"MS\": 6, \"MO\": 10,\n",
    "        \"MT\": 3, \"NE\": 5, \"NV\": 6, \"NH\": 4 , \"NJ\": 14,\n",
    "        \"NM\": 5, \"NY\": 29, \"NC\": 15, \"ND\": 3, \"OH\": 18,\n",
    "        \"OK\": 7, \"OR\": 7, \"PA\": 20, \"PR\": 0, \"RI\": 4,\n",
    "        \"SC\": 9, \"SD\": 3, \"TN\": 11, \"TX\": 38, \"UT\": 6,\n",
    "        \"VT\": 3, \"VA\": 13, \"WA\": 12, \"WV\": 5, \"WI\": 10,\n",
    "        \"WY\": 3}"
   ]
  },
  {
   "cell_type": "code",
   "execution_count": 197,
   "metadata": {},
   "outputs": [],
   "source": [
    "deaths = np.quantile(df.death_rate, 0.25)\n",
    "cases = np.quantile(df.log_cases_per1000, 0.25)"
   ]
  },
  {
   "cell_type": "code",
   "execution_count": 261,
   "metadata": {},
   "outputs": [],
   "source": [
    "def bootstrap(data, cases, deaths,dm):\n",
    "    samples = sklearn.utils.resample(data, stratify = data.State) # sample the data\n",
    "    m = smf.ols(formula = \n",
    "           'percent ~ rate + median_household_income_2018 + low_edu + logpop + log_cases_per1000 + death_rate + poverty + State',\n",
    "          data = samples).fit() # fit the model\n",
    "    dt_new = dt[['rate','median_household_income_2018','low_edu','logpop','poverty','State','total_votes']] \n",
    "    dt_new['log_cases_per1000'] = np.repeat(cases, samples.shape[0])\n",
    "    dt_new['death_rate'] = np.repeat(deaths, samples.shape[0])\n",
    "    predictions = m.predict(dt_new) # prediction with new data set\n",
    "    for i in range(samples.shape[0]):\n",
    "        if predictions[i]>1:\n",
    "            predictions[i] = 1\n",
    "        elif predictions[i]<0:\n",
    "            predictions[i] = 0\n",
    "        else:\n",
    "            continue\n",
    "    da = pd.DataFrame({'predictions': predictions, 'State':dt_new.State, 'total_votes':dt_new.total_votes})\n",
    "    da['votes'] = da.predictions*da.total_votes\n",
    "    groupings = da.groupby('State').aggregate({'votes':np.sum, 'total_votes':np.sum})\n",
    "    groupings.columns = ['votes', 'total_votes']\n",
    "    groupings.percent = groupings.votes/groupings.total_votes\n",
    "    \n",
    "    elec = 0\n",
    "    for i in range(groupings.shape[0]):\n",
    "        if groupings.percent[i]>=0.5:\n",
    "            elec += dm[groupings.index[i]]\n",
    "    return elec\n"
   ]
  },
  {
   "cell_type": "code",
   "execution_count": 264,
   "metadata": {},
   "outputs": [],
   "source": [
    "import warnings\n",
    "warnings.filterwarnings(\"ignore\")\n",
    "B = 5000\n",
    "elec = [0]*B\n",
    "for i in range(B):\n",
    "    elec[i] = bootstrap(df, cases, deaths, dm)"
   ]
  },
  {
   "cell_type": "code",
   "execution_count": 279,
   "metadata": {},
   "outputs": [
    {
     "name": "stdout",
     "output_type": "stream",
     "text": [
      "315.4252 282.0 343.0\n"
     ]
    },
    {
     "data": {
      "image/png": "[encoded data removed]",
      "text/plain": [
       "<Figure size 432x288 with 1 Axes>"
      ]
     },
     "metadata": {
      "needs_background": "light"
     },
     "output_type": "display_data"
    }
   ],
   "source": [
    "import matplotlib.pyplot as plt\n",
    "plt.hist(elec, bins = 20)\n",
    "avg = np.mean(elec)\n",
    "lower = np.quantile(elec, 0.025)\n",
    "upper = np.quantile(elec, 0.975)\n",
    "print(avg, lower, upper)"
   ]
  },
  {
   "cell_type": "code",
   "execution_count": 280,
   "metadata": {},
   "outputs": [],
   "source": [
    "deaths2 = np.quantile(df.death_rate, 0.75)\n",
    "cases2 = np.quantile(df.log_cases_per1000, 0.75)\n",
    "B = 5000\n",
    "elec2 = [0]*B\n",
    "for i in range(B):\n",
    "    elec2[i] = bootstrap(df, cases2, deaths2, dm)"
   ]
  },
  {
   "cell_type": "code",
   "execution_count": 281,
   "metadata": {},
   "outputs": [
    {
     "name": "stdout",
     "output_type": "stream",
     "text": [
      "271.5364 250.0 302.0\n"
     ]
    },
    {
     "data": {
      "image/png": "[encoded data removed]",
      "text/plain": [
       "<Figure size 432x288 with 1 Axes>"
      ]
     },
     "metadata": {
      "needs_background": "light"
     },
     "output_type": "display_data"
    }
   ],
   "source": [
    "plt.hist(elec2, bins = 20)\n",
    "avg = np.mean(elec2)\n",
    "lower = np.quantile(elec2, 0.025)\n",
    "upper = np.quantile(elec2, 0.975)\n",
    "print(avg, lower, upper)"
   ]
  },
  {
   "cell_type": "code",
   "execution_count": null,
   "metadata": {},
   "outputs": [],
   "source": []
  },
  {
   "cell_type": "code",
   "execution_count": null,
   "metadata": {},
   "outputs": [],
   "source": []
  },
  {
   "cell_type": "code",
   "execution_count": null,
   "metadata": {},
   "outputs": [],
   "source": []
  }
 ],
 "metadata": {
  "kernelspec": {
   "display_name": "Python 3",
   "language": "python",
   "name": "python3"
  },
  "language_info": {
   "codemirror_mode": {
    "name": "ipython",
    "version": 3
   },
   "file_extension": ".py",
   "mimetype": "text/x-python",
   "name": "python",
   "nbconvert_exporter": "python",
   "pygments_lexer": "ipython3",
   "version": "3.8.1"
  }
 },
 "nbformat": 4,
 "nbformat_minor": 4
}
