{
 "cells": [
  {
   "cell_type": "code",
   "execution_count": 1,
   "metadata": {},
   "outputs": [],
   "source": [
    "import pandas as pd\n",
    "import numpy as np"
   ]
  },
  {
   "cell_type": "code",
   "execution_count": 83,
   "metadata": {},
   "outputs": [],
   "source": [
    "pop = pd.read_csv('population.csv')\n",
    "cases = pd.read_csv('covid_confirmed_usafacts.csv')\n",
    "deaths = pd.read_csv('covid_deaths_usafacts.csv')\n",
    "pop = pop.drop('countyFIPS', axis=1)"
   ]
  },
  {
   "cell_type": "code",
   "execution_count": 110,
   "metadata": {},
   "outputs": [],
   "source": [
    "def monthly_data(dt, start):\n",
    "    # starting with index 4\n",
    "    res = dt[['County Name','State']]\n",
    "    idx = 16\n",
    "    while idx < dt.shape[1]:\n",
    "        temp = dt.iloc[:,idx]\n",
    "        col_name = 'month' + str((idx-16)/30)\n",
    "        res[col_name] = temp\n",
    "        idx += 30\n",
    "    return res"
   ]
  },
  {
   "cell_type": "code",
   "execution_count": 111,
   "metadata": {},
   "outputs": [
    {
     "data": {
      "text/plain": [
       "0          0\n",
       "1       2141\n",
       "2       6888\n",
       "3       1056\n",
       "4        866\n",
       "        ... \n",
       "3190     553\n",
       "3191     796\n",
       "3192     479\n",
       "3193     158\n",
       "3194     159\n",
       "Name: 10/30/20, Length: 3195, dtype: int64"
      ]
     },
     "execution_count": 111,
     "metadata": {},
     "output_type": "execute_result"
    }
   ],
   "source": [
    "cases.iloc[:,286]"
   ]
  },
  {
   "cell_type": "code",
   "execution_count": 112,
   "metadata": {},
   "outputs": [
    {
     "name": "stderr",
     "output_type": "stream",
     "text": [
      "<ipython-input-110-808ff1a1817c>:8: SettingWithCopyWarning: \n",
      "A value is trying to be set on a copy of a slice from a DataFrame.\n",
      "Try using .loc[row_indexer,col_indexer] = value instead\n",
      "\n",
      "See the caveats in the documentation: http://pandas.pydata.org/pandas-docs/stable/user_guide/indexing.html#returning-a-view-versus-a-copy\n",
      "  res[col_name] = temp\n"
     ]
    }
   ],
   "source": [
    "dx  = monthly_data(cases, 4)\n",
    "dy = monthly_data(deaths, 4)\n",
    "df = dx.merge(dy, on=['County Name', 'State'])\n",
    "df = df.merge(pop, on=['County Name', 'State'])"
   ]
  },
  {
   "cell_type": "code",
   "execution_count": 115,
   "metadata": {},
   "outputs": [],
   "source": [
    "df.to_csv('data/covid_data.csv')"
   ]
  },
  {
   "cell_type": "code",
   "execution_count": 116,
   "metadata": {},
   "outputs": [
    {
     "data": {
      "text/plain": [
       "Index(['County Name', 'State', 'month0.0_x', 'month1.0_x', 'month2.0_x',\n",
       "       'month3.0_x', 'month4.0_x', 'month5.0_x', 'month6.0_x', 'month7.0_x',\n",
       "       'month8.0_x', 'month9.0_x', 'month0.0_y', 'month1.0_y', 'month2.0_y',\n",
       "       'month3.0_y', 'month4.0_y', 'month5.0_y', 'month6.0_y', 'month7.0_y',\n",
       "       'month8.0_y', 'month9.0_y', 'population'],\n",
       "      dtype='object')"
      ]
     },
     "execution_count": 116,
     "metadata": {},
     "output_type": "execute_result"
    }
   ],
   "source": [
    "df.columns"
   ]
  },
  {
   "cell_type": "code",
   "execution_count": null,
   "metadata": {},
   "outputs": [],
   "source": []
  },
  {
   "cell_type": "code",
   "execution_count": 114,
   "metadata": {},
   "outputs": [
    {
     "data": {
      "text/plain": [
       "0        0\n",
       "1       30\n",
       "2       71\n",
       "3        9\n",
       "4       15\n",
       "        ..\n",
       "3190     2\n",
       "3191     1\n",
       "3192     3\n",
       "3193     7\n",
       "3194     0\n",
       "Name: 10/30/20, Length: 3195, dtype: int64"
      ]
     },
     "execution_count": 114,
     "metadata": {},
     "output_type": "execute_result"
    }
   ],
   "source": [
    "deaths.iloc[:,286]"
   ]
  },
  {
   "cell_type": "code",
   "execution_count": null,
   "metadata": {},
   "outputs": [],
   "source": []
  },
  {
   "cell_type": "code",
   "execution_count": null,
   "metadata": {},
   "outputs": [],
   "source": []
  }
 ],
 "metadata": {
  "kernelspec": {
   "display_name": "Python 3",
   "language": "python",
   "name": "python3"
  },
  "language_info": {
   "codemirror_mode": {
    "name": "ipython",
    "version": 3
   },
   "file_extension": ".py",
   "mimetype": "text/x-python",
   "name": "python",
   "nbconvert_exporter": "python",
   "pygments_lexer": "ipython3",
   "version": "3.8.1"
  }
 },
 "nbformat": 4,
 "nbformat_minor": 4
}
